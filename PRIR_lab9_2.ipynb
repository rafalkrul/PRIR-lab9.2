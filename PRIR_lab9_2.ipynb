{
  "nbformat": 4,
  "nbformat_minor": 0,
  "metadata": {
    "colab": {
      "name": "PRIR-lab9.2.ipynb",
      "provenance": []
    },
    "kernelspec": {
      "name": "python3",
      "display_name": "Python 3"
    },
    "language_info": {
      "name": "python"
    },
    "accelerator": "GPU"
  },
  "cells": [
    {
      "cell_type": "markdown",
      "source": [
        "Instalacja środowiska"
      ],
      "metadata": {
        "id": "NtaT9uxociO-"
      }
    },
    {
      "cell_type": "code",
      "execution_count": null,
      "metadata": {
        "id": "sgeYjCyNcb8a"
      },
      "outputs": [],
      "source": [
        "!apt-get --purge remove cuda nvidia* libnvidia-*\n",
        "!dpkg -l | grep cuda- | awk '{print $2}' | xargs -n1 dpkg --purge\n",
        "!apt-get remove cuda-*\n",
        "!apt autoremove\n",
        "!apt-get update\n",
        "\n",
        "!wget https://developer.nvidia.com/compute/cuda/9.2/Prod/local_installers/cuda-repo-ubuntu1604-9-2-local_9.2.88-1_amd64 -O cuda-repo-ubuntu1604-9-2-local_9.2.88-1_amd64.deb\n",
        "!dpkg -i cuda-repo-ubuntu1604-9-2-local_9.2.88-1_amd64.deb\n",
        "!apt-key add /var/cuda-repo-9-2-local/7fa2af80.pub\n",
        "!apt-get update\n",
        "!apt-get install cuda-9.2\n",
        "\n",
        "!nvcc --version\n",
        "!pip install git+git://github.com/andreinechaev/nvcc4jupyter.git\n",
        "\n",
        "%load_ext nvcc_plugin"
      ]
    },
    {
      "cell_type": "code",
      "source": [
        "!pip install git+git://github.com/andreinechaev/nvcc4jupyter.git\n",
        "%load_ext nvcc_plugin"
      ],
      "metadata": {
        "colab": {
          "base_uri": "https://localhost:8080/"
        },
        "id": "5K0tYt_DkwBJ",
        "outputId": "09b78f4a-77fb-4c9c-ffe0-8088bc5ecf80"
      },
      "execution_count": 7,
      "outputs": [
        {
          "output_type": "stream",
          "name": "stdout",
          "text": [
            "Collecting git+git://github.com/andreinechaev/nvcc4jupyter.git\n",
            "  Cloning git://github.com/andreinechaev/nvcc4jupyter.git to /tmp/pip-req-build-j3zn07gj\n",
            "  Running command git clone -q git://github.com/andreinechaev/nvcc4jupyter.git /tmp/pip-req-build-j3zn07gj\n",
            "The nvcc_plugin extension is already loaded. To reload it, use:\n",
            "  %reload_ext nvcc_plugin\n"
          ]
        }
      ]
    },
    {
      "cell_type": "code",
      "source": [
        "%%cu\n",
        "#include <chrono>  // obsługa mierzenia czasu w C++\n",
        "#include <iostream> \n",
        "#include <vector>\n",
        "\n",
        "int cpuMandelbrot(double X0, double Y0, double X1, double Y1, int POZ, int PION, int ITER,int *Mandel ){\n",
        "    double dx=(X1-X0)/POZ;\n",
        "    double dy=(Y1-Y0)/PION;\n",
        "    for (int r_y = 0; r_y<PION; r_y++)\n",
        "    {\n",
        "        // Punkt w pionie na płaszczyznie zespolonej\n",
        "        double c_y0 = Y1 - r_y * dy;\n",
        "\n",
        "        for(int r_x = 0; r_x<POZ; r_x++)\n",
        "        {\n",
        "            // Punkt w poziomie na płaszczyznie zespolonej\n",
        "            double c_x0 = X0 + r_x * dx;\n",
        "\n",
        "            double x = 0.0;\n",
        "            double y = 0.0;\n",
        "            int iteracji = 0;\n",
        "\n",
        "            while (x*x + y*y < 2*2 && iteracji < ITER) {\n",
        "                double xtemp = x*x - y*y + c_x0;\n",
        "                y = 2*x*y + c_y0;\n",
        "                x = xtemp;\n",
        "                iteracji += 1;\n",
        "            };\n",
        "            \n",
        "            Mandel[r_y*POZ+r_x] = iteracji;\n",
        "        }\n",
        "\n",
        "    }\n",
        "    return 1;\n",
        "}\n",
        "\n",
        "int main() {\n",
        "  //Ustaw obszar obliczen\n",
        "  //{X0,Y0} - lewy dolny rog\n",
        "  double X0=atof(\"-1.\");\n",
        "  double Y0=atof(\"-1.\");\n",
        "\n",
        "  //{X1,Y1} - prawy gorny rog\n",
        "  double X1=atof(\"1.\");\n",
        "  double Y1=atof(\"1.\");\n",
        "\n",
        "  //Ustal rozmiar w pikselach\n",
        "  //{POZ,PION}\n",
        "  int POZ=atoi(\"3000\");\n",
        "  int PION=atoi(\"3000\");\n",
        "\n",
        "  //Ustal liczbe iteracji probkowania\n",
        "  int ITER=atoi(\"256\");\n",
        "\n",
        "  // Zaalokuj tablice do przechowywania wyniku na CPU\n",
        "  int *host_mandel = (int *) malloc(sizeof(int)*POZ*PION);\n",
        "\n",
        "  int num_of_executions = 25;\n",
        "\n",
        "  // Zdefiniuj timery\n",
        "  time_t start, end;\n",
        "\n",
        "  std::vector<double> cpu_durations = { };\n",
        "\n",
        "  std::chrono::duration<int64_t, std::nano> diff;\n",
        " \n",
        "  for (int i = 0; i < num_of_executions; i++) {\n",
        "    // startujemy pomiar czasu - na rózne sposoby\n",
        "    start=clock();\n",
        "    auto start2 = std::chrono::steady_clock::now();\n",
        "\n",
        "    cpuMandelbrot(X0,Y0,X1,Y1,POZ,PION,ITER,host_mandel);\n",
        "\n",
        "    // konczymy pomiar czasu \n",
        "    auto stop = std::chrono::steady_clock::now();\n",
        "    end=clock();\n",
        "    diff = stop - start2;\n",
        "    cpu_durations.push_back(((double) diff.count() / 1000000000)); // Nanosekundy do sekund      \n",
        "  }\n",
        "\n",
        "  std::cout << \"CPU\" << std::endl;\n",
        "  std::string cpu_string_result = \"\";\n",
        "  for (float result : cpu_durations) {\n",
        "    cpu_string_result.append(std::to_string(result) + \", \");\n",
        "  }\n",
        "  std::cout << cpu_string_result << std::endl;\n",
        "\n",
        " \n",
        " return 0;\n",
        "}"
      ],
      "metadata": {
        "colab": {
          "base_uri": "https://localhost:8080/"
        },
        "id": "SNu70gb1k-bj",
        "outputId": "ae4d1478-25d3-400b-c998-ed13e41a0c86"
      },
      "execution_count": 8,
      "outputs": [
        {
          "output_type": "stream",
          "name": "stdout",
          "text": [
            "CPU\n",
            "7.401653, 7.245220, 7.214851, 7.231353, 7.191373, 7.259069, 7.272729, 7.251545, 7.222718, 7.232304, 7.239226, 7.202899, 7.214046, 7.190893, 7.247749, 7.265268, 7.348147, 7.361453, 7.366894, 7.342649, 7.271054, 7.339664, 7.281950, 7.373431, 7.425019, \n",
            "\n"
          ]
        }
      ]
    },
    {
      "cell_type": "code",
      "source": [
        "%%cu\n",
        "#include <iostream> \n",
        "#include <vector>\n",
        "\n",
        "__global__ void cudaMandelbrot(double X0, double Y0, double X1, double Y1, int POZ, int PION, int ITER,int *Mandel){\n",
        "  double    dX=(X1-X0)/(POZ);\n",
        "  double    dY=(Y1-Y0)/(PION);\n",
        "  int i = 0;\n",
        "  double x = 0.0;\n",
        "  double y = 0.0;\n",
        "  double Zx,Zy,tZx,tZy;\n",
        "  int idx = threadIdx.x + blockIdx.x * blockDim.x;\n",
        "\tif (idx < PION*POZ) { // wykonujemy obliczenia tylko dla watków przypisanych do probkowanego obszaru\n",
        "        // tu liczymy zbior Mandelbrota\n",
        "        // trzeba pamietac o zmapowaniu liniowej struktury watkow na punkty siatki obliczeniowej\n",
        "\n",
        "        double c_x0 = X0 + (idx % POZ) * dX;\n",
        "        double c_y0 = Y1 - (int)(idx / PION) * dY;\n",
        "        \n",
        "        while (x*x + y*y < 2*2 && i < ITER) {\n",
        "            double xtemp = x*x - y*y + c_x0;\n",
        "            y = 2*x*y + c_y0;\n",
        "            x = xtemp;\n",
        "            i += 1;\n",
        "        };\n",
        "\n",
        "        Mandel[idx] = i;\n",
        "\t}\t\n",
        "}\n",
        "\n",
        "\n",
        "int main() {\n",
        "  //Ustaw obszar obliczen\n",
        "  //{X0,Y0} - lewy dolny rog\n",
        "  double X0=atof(\"-1.\");\n",
        "  double Y0=atof(\"-1.\");\n",
        "\n",
        "  //{X1,Y1} - prawy gorny rog\n",
        "  double X1=atof(\"1.\");\n",
        "  double Y1=atof(\"1.\");\n",
        "\n",
        "  //Ustal rozmiar w pikselach\n",
        "  //{POZ,PION}\n",
        "  int POZ=atoi(\"3000\");\n",
        "  int PION=atoi(\"3000\");\n",
        "\n",
        "  //Ustal liczbe iteracji probkowania\n",
        "  int ITER=atoi(\"256\");\n",
        "\n",
        "  cudaError_t status;\n",
        "  \n",
        "  // Zaalokuj tablice do przechowywania wyniku na GPU i CPU\n",
        "  int *host_mandel = (int *) malloc(sizeof(int)*POZ*PION);\n",
        "  int *device_mandel;\n",
        "  status = cudaMalloc(&device_mandel, sizeof(int)*POZ*PION);\n",
        "  // sprawdz czy alokacja się powiodła \n",
        "  if (status != cudaSuccess) {\n",
        "      std::cout << \"Blad alokacji w pamieci zunifikowanej\\n\";\n",
        "      delete[] host_mandel;\n",
        "      return 0;\n",
        "  }\n",
        "\n",
        "  status = cudaMemcpy(device_mandel, host_mandel, sizeof(int)*POZ*PION, cudaMemcpyHostToDevice);\n",
        "  if (status != cudaSuccess) {\n",
        "      std::cout << \"Blad kopiowania\\n\";\n",
        "      delete[] host_mandel;\n",
        "      cudaFree(device_mandel);\n",
        "      return 0;\n",
        "  }\n",
        "\n",
        "  int num_of_executions = 25;\n",
        "\n",
        "  // Zdefiniuj timery\n",
        "  time_t start, end;\n",
        "\n",
        "  std::vector<double> gpu_durations = { };\n",
        " \n",
        "  for (int i = 0; i < num_of_executions; i++) {\n",
        "    // ustawienia dla cudaMandelbrot\n",
        "    dim3 threadsPerBlock(32,1,1);\n",
        "    dim3 numBlocks(PION*POZ/threadsPerBlock.x+1,1,1);\n",
        "\n",
        "    // Dla GPU pomiar z uzyciem CUDA Events\n",
        "    // Z poradnika: https://developer.nvidia.com/blog/how-implement-performance-metrics-cuda-cc/\n",
        "    cudaEvent_t start, stop;\n",
        "    cudaEventCreate(&start);\n",
        "    cudaEventCreate(&stop);\n",
        "\n",
        "    cudaEventRecord(start);\n",
        "    cudaMandelbrot<<<numBlocks,threadsPerBlock,1>>>(X0,Y0,X1,Y1,POZ,PION,ITER,device_mandel);\n",
        "    cudaEventRecord(stop);\n",
        "\n",
        "    // Zatrymaj egzekujcę CPU do czasu az nie wystapi event \"stop\"\n",
        "    cudaEventSynchronize(stop);\n",
        "    float milliseconds = 0;\n",
        "    cudaEventElapsedTime(&milliseconds, start, stop);\n",
        "    cudaEventDestroy(start);\n",
        "    cudaEventDestroy(stop);\n",
        "    float seconds = milliseconds / 1000;\n",
        "    gpu_durations.push_back(seconds);\n",
        "  }\n",
        "\n",
        "  std::cout << \"GPU\" << std::endl;\n",
        "  std::string gpu_string_result = \"\";\n",
        "  for (float result : gpu_durations) {\n",
        "    gpu_string_result.append(std::to_string(result) + \", \");\n",
        "  }\n",
        "  std::cout << gpu_string_result << std::endl;\n",
        "\n",
        " \n",
        " return 0;\n",
        "}"
      ],
      "metadata": {
        "colab": {
          "base_uri": "https://localhost:8080/"
        },
        "id": "AqnoynE2l5tn",
        "outputId": "d96f93ce-b822-4ffe-90e3-ac16e34f9e65"
      },
      "execution_count": 9,
      "outputs": [
        {
          "output_type": "stream",
          "name": "stdout",
          "text": [
            "GPU\n",
            "0.028260, 0.028144, 0.028142, 0.028145, 0.028145, 0.028144, 0.028144, 0.028147, 0.028162, 0.025317, 0.025269, 0.025284, 0.025268, 0.025274, 0.025281, 0.024496, 0.022862, 0.022869, 0.022857, 0.022866, 0.022858, 0.022872, 0.022878, 0.020583, 0.020584, \n",
            "\n"
          ]
        }
      ]
    }
  ]
}